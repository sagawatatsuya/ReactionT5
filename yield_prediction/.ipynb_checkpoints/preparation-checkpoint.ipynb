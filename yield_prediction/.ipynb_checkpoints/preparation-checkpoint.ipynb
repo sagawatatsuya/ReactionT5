{
 "cells": [
  {
   "cell_type": "code",
   "execution_count": 1,
   "id": "bd190b4b",
   "metadata": {},
   "outputs": [],
   "source": [
    "import os\n",
    "import gc\n",
    "import random\n",
    "import itertools\n",
    "import warnings\n",
    "warnings.filterwarnings('ignore')\n",
    "import numpy as np\n",
    "import pandas as pd\n",
    "from tqdm.auto import tqdm\n",
    "import tokenizers\n",
    "import transformers\n",
    "from transformers import AutoTokenizer, AutoConfig, AutoModel, T5EncoderModel, get_linear_schedule_with_warmup\n",
    "import datasets\n",
    "from datasets import load_dataset, load_metric\n",
    "import sentencepiece\n",
    "import argparse\n",
    "import torch\n",
    "from torch.utils.data import Dataset, DataLoader\n",
    "import torch.nn.functional as F\n",
    "import torch.nn as nn\n",
    "from torch.optim import AdamW\n",
    "import pickle\n",
    "import time\n",
    "import math\n",
    "from sklearn.preprocessing import MinMaxScaler\n",
    "from datasets.utils.logging import disable_progress_bar\n",
    "from sklearn.model_selection import train_test_split\n",
    "from sklearn.metrics import mean_squared_error, r2_score\n",
    "disable_progress_bar()\n",
    "\n",
    "def parse_args():\n",
    "    parser = argparse.ArgumentParser()\n",
    "    parser.add_argument(\"--data_path\", type=str, required=False)\n",
    "#     parser.add_argument(\"--dataset_name\", type=str, required=False)\n",
    "    parser.add_argument(\"--pretrained_model_name_or_path\", type=str, default=\"sagawa/ZINC-t5\", required=False)\n",
    "    parser.add_argument(\"--model_name_or_path\", type=str, required=False)\n",
    "    parser.add_argument(\"--scaler_path\", type=str, default=\"/data2/sagawa/tcrp-regression-model-archive/10-23-1st-new-metric-reactant-product\", required=False)\n",
    "    parser.add_argument(\"--debug\", action='store_true', default=False, required=False)\n",
    "    parser.add_argument(\"--batch_size\", type=int, default=5, required=False)\n",
    "    parser.add_argument(\"--max_len\", type=int, default=512, required=False)\n",
    "    parser.add_argument(\"--num_workers\", type=int, default=1, required=False)\n",
    "    parser.add_argument(\"--fc_dropout\", type=float, default=0.1, required=False)\n",
    "    parser.add_argument(\"--output_dir\", type=str, default='./', required=False)\n",
    "    parser.add_argument(\"--seed\", type=int, default=42, required=False)\n",
    "\n",
    "    return parser.parse_args()\n",
    "\n",
    "class CFG():\n",
    "    data_path='../../all_ord_reaction_uniq_with_attr_v3.tsv'\n",
    "#     pretrained_model_name_or_path = 'sagawa/ZINC-t5'\n",
    "    model = 'sagawa/ZINC-t5'\n",
    "    batch_size = 5 #max_lenを大きくしたらoomしたから15から5に\n",
    "    seed = 42\n",
    "    num_workers = 4\n",
    "    output_dir = './'\n",
    "    model_name_or_path = '/data2/sagawa/tcrp-regression-model-archive/10-23-1st-new-metric-reactant-product'\n",
    "    scaler_path = '/data2/sagawa/tcrp-regression-model-archive/10-23-1st-new-metric-reactant-product'"
   ]
  },
  {
   "cell_type": "code",
   "execution_count": 19,
   "id": "c0b7bc26",
   "metadata": {},
   "outputs": [
    {
     "data": {
      "text/html": [
       "<div>\n",
       "<style scoped>\n",
       "    .dataframe tbody tr th:only-of-type {\n",
       "        vertical-align: middle;\n",
       "    }\n",
       "\n",
       "    .dataframe tbody tr th {\n",
       "        vertical-align: top;\n",
       "    }\n",
       "\n",
       "    .dataframe thead th {\n",
       "        text-align: right;\n",
       "    }\n",
       "</style>\n",
       "<table border=\"1\" class=\"dataframe\">\n",
       "  <thead>\n",
       "    <tr style=\"text-align: right;\">\n",
       "      <th></th>\n",
       "      <th>CATALYST</th>\n",
       "      <th>REACTANT</th>\n",
       "      <th>REAGENT</th>\n",
       "      <th>SOLVENT</th>\n",
       "      <th>INTERNAL_STANDARD</th>\n",
       "      <th>NoData</th>\n",
       "      <th>PRODUCT</th>\n",
       "      <th>YIELD</th>\n",
       "      <th>TEMP</th>\n",
       "      <th>input</th>\n",
       "    </tr>\n",
       "  </thead>\n",
       "  <tbody>\n",
       "    <tr>\n",
       "      <th>0</th>\n",
       "      <td></td>\n",
       "      <td>CCN(CC)CC.CCOC(=O)Cl.NCCC1(O)CCc2ccccc2C12CCCC2</td>\n",
       "      <td></td>\n",
       "      <td>ClCCl</td>\n",
       "      <td></td>\n",
       "      <td></td>\n",
       "      <td>CC#CN1C(=O)C(C)Oc2ccc(-n3c(=O)cc(C(F)(F)F)[nH]...</td>\n",
       "      <td>98.0</td>\n",
       "      <td></td>\n",
       "      <td>REACTANT:CCN(CC)CC.CCOC(=O)Cl.NCCC1(O)CCc2cccc...</td>\n",
       "    </tr>\n",
       "    <tr>\n",
       "      <th>1</th>\n",
       "      <td>[Pd]</td>\n",
       "      <td>CC(C)(C)OC(=O)N1Cc2cc([N+](=O)[O-])ccc2C[C@H]1...</td>\n",
       "      <td></td>\n",
       "      <td>CO</td>\n",
       "      <td></td>\n",
       "      <td></td>\n",
       "      <td>c1ccc2sc(-c3nccc4ccccc34)cc2c1</td>\n",
       "      <td>84.0</td>\n",
       "      <td></td>\n",
       "      <td>REACTANT:CC(C)(C)OC(=O)N1Cc2cc([N+](=O)[O-])cc...</td>\n",
       "    </tr>\n",
       "    <tr>\n",
       "      <th>2</th>\n",
       "      <td></td>\n",
       "      <td>CC(=O)NC[C@H]1CN(c2cc(F)c(N3CCS(=O)(=O)CC3)c(F...</td>\n",
       "      <td></td>\n",
       "      <td>CC(=O)O</td>\n",
       "      <td></td>\n",
       "      <td></td>\n",
       "      <td>CCCCCCCCCCCC(=O)N1CCC[C@H]1C(=O)O</td>\n",
       "      <td>94.0</td>\n",
       "      <td></td>\n",
       "      <td>REACTANT:CC(=O)NC[C@H]1CN(c2cc(F)c(N3CCS(=O)(=...</td>\n",
       "    </tr>\n",
       "    <tr>\n",
       "      <th>3</th>\n",
       "      <td></td>\n",
       "      <td>C#C[Si](C)(C)C.FC(F)(F)c1ccc(-c2ccc3ncc(I)n3c2...</td>\n",
       "      <td></td>\n",
       "      <td></td>\n",
       "      <td></td>\n",
       "      <td></td>\n",
       "      <td>COC(=O)c1nc(Br)cc(Br)c1OCc1ccccc1</td>\n",
       "      <td>89.0</td>\n",
       "      <td></td>\n",
       "      <td>REACTANT:C#C[Si](C)(C)C.FC(F)(F)c1ccc(-c2ccc3n...</td>\n",
       "    </tr>\n",
       "    <tr>\n",
       "      <th>4</th>\n",
       "      <td></td>\n",
       "      <td>CC1CCC(Br)c2ncc(C(=O)O)c(=O)n21.CCCCN.Cl.ClC(C...</td>\n",
       "      <td></td>\n",
       "      <td>O</td>\n",
       "      <td></td>\n",
       "      <td></td>\n",
       "      <td>Cl.Cl.Cl.NCCCC[C@H](N)C(=O)NCC(=O)Nc1ccccc1C(=...</td>\n",
       "      <td>31.0</td>\n",
       "      <td></td>\n",
       "      <td>REACTANT:CC1CCC(Br)c2ncc(C(=O)O)c(=O)n21.CCCCN...</td>\n",
       "    </tr>\n",
       "  </tbody>\n",
       "</table>\n",
       "</div>"
      ],
      "text/plain": [
       "  CATALYST                                           REACTANT REAGENT  \\\n",
       "0             CCN(CC)CC.CCOC(=O)Cl.NCCC1(O)CCc2ccccc2C12CCCC2           \n",
       "1     [Pd]  CC(C)(C)OC(=O)N1Cc2cc([N+](=O)[O-])ccc2C[C@H]1...           \n",
       "2           CC(=O)NC[C@H]1CN(c2cc(F)c(N3CCS(=O)(=O)CC3)c(F...           \n",
       "3           C#C[Si](C)(C)C.FC(F)(F)c1ccc(-c2ccc3ncc(I)n3c2...           \n",
       "4           CC1CCC(Br)c2ncc(C(=O)O)c(=O)n21.CCCCN.Cl.ClC(C...           \n",
       "\n",
       "   SOLVENT INTERNAL_STANDARD NoData  \\\n",
       "0    ClCCl                            \n",
       "1       CO                            \n",
       "2  CC(=O)O                            \n",
       "3                                     \n",
       "4        O                            \n",
       "\n",
       "                                             PRODUCT  YIELD TEMP  \\\n",
       "0  CC#CN1C(=O)C(C)Oc2ccc(-n3c(=O)cc(C(F)(F)F)[nH]...   98.0        \n",
       "1                     c1ccc2sc(-c3nccc4ccccc34)cc2c1   84.0        \n",
       "2                  CCCCCCCCCCCC(=O)N1CCC[C@H]1C(=O)O   94.0        \n",
       "3                  COC(=O)c1nc(Br)cc(Br)c1OCc1ccccc1   89.0        \n",
       "4  Cl.Cl.Cl.NCCCC[C@H](N)C(=O)NCC(=O)Nc1ccccc1C(=...   31.0        \n",
       "\n",
       "                                               input  \n",
       "0  REACTANT:CCN(CC)CC.CCOC(=O)Cl.NCCC1(O)CCc2cccc...  \n",
       "1  REACTANT:CC(C)(C)OC(=O)N1Cc2cc([N+](=O)[O-])cc...  \n",
       "2  REACTANT:CC(=O)NC[C@H]1CN(c2cc(F)c(N3CCS(=O)(=...  \n",
       "3  REACTANT:C#C[Si](C)(C)C.FC(F)(F)c1ccc(-c2ccc3n...  \n",
       "4  REACTANT:CC1CCC(Br)c2ncc(C(=O)O)c(=O)n21.CCCCN...  "
      ]
     },
     "metadata": {},
     "output_type": "display_data"
    }
   ],
   "source": [
    "device = torch.device('cuda' if torch.cuda.is_available() else 'cpu')\n",
    "# device = 'cpu'\n",
    "\n",
    "OUTPUT_DIR = CFG.output_dir\n",
    "if not os.path.exists(OUTPUT_DIR):\n",
    "    os.makedirs(OUTPUT_DIR)\n",
    "\n",
    "def seed_everything(seed=42):\n",
    "    random.seed(seed)\n",
    "    os.environ['PYTHONHASHSEED'] = str(seed)\n",
    "    np.random.seed(seed)\n",
    "    torch.manual_seed(seed)\n",
    "    torch.cuda.manual_seed(seed)\n",
    "    torch.backends.cudnn.deterministic = True\n",
    "seed_everything(seed=CFG.seed)  \n",
    "    \n",
    "\n",
    "\n",
    "test_ds = pd.read_csv('../../regression-input-valid.csv')\n",
    "display(test_ds.head())\n",
    "\n",
    "# with open(OUTPUT_DIR+'scaler.pkl', 'rb') as f:\n",
    "#     scaler = pickle.load(f)\n",
    "with open(CFG.scaler_path + '/scaler.pkl', 'rb') as f:\n",
    "    scaler = pickle.load(f)\n",
    "\n",
    "test_ds = test_ds[['input', 'YIELD']]\n",
    "\n",
    "test_ds['YIELD'] = scaler.transform(test_ds['YIELD'].values.reshape(-1, 1))"
   ]
  },
  {
   "cell_type": "code",
   "execution_count": 25,
   "id": "dfe0f993",
   "metadata": {},
   "outputs": [],
   "source": [
    "test_ds = test_ds[:500]"
   ]
  },
  {
   "cell_type": "code",
   "execution_count": 31,
   "id": "274b1854",
   "metadata": {
    "scrolled": true
   },
   "outputs": [
    {
     "name": "stderr",
     "output_type": "stream",
     "text": [
      "Some weights of the model checkpoint at sagawa/ZINC-t5 were not used when initializing T5EncoderModel: ['decoder.block.11.layer.1.EncDecAttention.k.weight', 'decoder.block.7.layer.1.layer_norm.weight', 'decoder.block.10.layer.2.DenseReluDense.wi_0.weight', 'decoder.block.6.layer.1.EncDecAttention.v.weight', 'decoder.block.6.layer.2.DenseReluDense.wi_0.weight', 'decoder.block.5.layer.0.layer_norm.weight', 'decoder.block.11.layer.0.SelfAttention.k.weight', 'decoder.block.7.layer.0.SelfAttention.k.weight', 'decoder.block.7.layer.0.SelfAttention.q.weight', 'decoder.block.6.layer.0.SelfAttention.k.weight', 'decoder.block.0.layer.2.DenseReluDense.wi_0.weight', 'decoder.block.1.layer.1.EncDecAttention.o.weight', 'decoder.block.6.layer.1.EncDecAttention.o.weight', 'decoder.block.1.layer.0.SelfAttention.o.weight', 'decoder.block.1.layer.1.EncDecAttention.k.weight', 'decoder.block.7.layer.1.EncDecAttention.k.weight', 'decoder.block.1.layer.2.DenseReluDense.wi_0.weight', 'decoder.block.4.layer.2.DenseReluDense.wi_0.weight', 'decoder.block.5.layer.1.EncDecAttention.v.weight', 'decoder.block.9.layer.2.DenseReluDense.wi_1.weight', 'decoder.block.4.layer.2.DenseReluDense.wo.weight', 'decoder.block.11.layer.1.EncDecAttention.q.weight', 'decoder.block.8.layer.2.DenseReluDense.wi_1.weight', 'decoder.block.2.layer.1.EncDecAttention.q.weight', 'decoder.block.4.layer.2.layer_norm.weight', 'decoder.block.9.layer.0.SelfAttention.k.weight', 'decoder.block.1.layer.1.EncDecAttention.v.weight', 'decoder.block.2.layer.2.DenseReluDense.wo.weight', 'decoder.block.1.layer.0.SelfAttention.q.weight', 'decoder.block.7.layer.1.EncDecAttention.v.weight', 'decoder.block.0.layer.1.EncDecAttention.k.weight', 'decoder.block.5.layer.2.DenseReluDense.wo.weight', 'decoder.block.9.layer.2.DenseReluDense.wo.weight', 'decoder.block.11.layer.0.SelfAttention.v.weight', 'decoder.block.2.layer.0.SelfAttention.k.weight', 'decoder.block.2.layer.2.DenseReluDense.wi_1.weight', 'decoder.block.6.layer.0.SelfAttention.o.weight', 'decoder.block.7.layer.2.DenseReluDense.wi_0.weight', 'decoder.block.6.layer.2.DenseReluDense.wi_1.weight', 'decoder.block.0.layer.2.layer_norm.weight', 'decoder.block.11.layer.0.SelfAttention.q.weight', 'decoder.block.4.layer.0.SelfAttention.o.weight', 'decoder.block.11.layer.0.SelfAttention.o.weight', 'decoder.block.8.layer.0.SelfAttention.o.weight', 'decoder.block.6.layer.1.layer_norm.weight', 'decoder.block.3.layer.1.layer_norm.weight', 'decoder.block.7.layer.0.layer_norm.weight', 'decoder.block.11.layer.1.EncDecAttention.v.weight', 'decoder.block.7.layer.2.DenseReluDense.wo.weight', 'decoder.block.11.layer.2.DenseReluDense.wi_0.weight', 'decoder.block.8.layer.0.layer_norm.weight', 'decoder.block.2.layer.0.SelfAttention.v.weight', 'decoder.block.4.layer.1.layer_norm.weight', 'decoder.block.10.layer.0.layer_norm.weight', 'decoder.block.5.layer.2.DenseReluDense.wi_0.weight', 'decoder.block.0.layer.1.EncDecAttention.v.weight', 'decoder.block.1.layer.1.EncDecAttention.q.weight', 'decoder.block.4.layer.0.SelfAttention.k.weight', 'decoder.block.3.layer.0.layer_norm.weight', 'decoder.block.9.layer.0.SelfAttention.v.weight', 'decoder.block.1.layer.2.DenseReluDense.wo.weight', 'decoder.block.0.layer.1.layer_norm.weight', 'decoder.block.3.layer.0.SelfAttention.o.weight', 'decoder.block.2.layer.2.DenseReluDense.wi_0.weight', 'decoder.block.9.layer.1.EncDecAttention.k.weight', 'decoder.block.5.layer.1.layer_norm.weight', 'decoder.block.6.layer.1.EncDecAttention.q.weight', 'decoder.block.5.layer.1.EncDecAttention.o.weight', 'decoder.block.5.layer.2.DenseReluDense.wi_1.weight', 'decoder.block.11.layer.2.DenseReluDense.wi_1.weight', 'decoder.block.10.layer.2.layer_norm.weight', 'decoder.block.0.layer.1.EncDecAttention.o.weight', 'decoder.block.2.layer.1.EncDecAttention.o.weight', 'decoder.block.7.layer.1.EncDecAttention.q.weight', 'decoder.block.6.layer.1.EncDecAttention.k.weight', 'decoder.block.6.layer.2.DenseReluDense.wo.weight', 'decoder.block.8.layer.2.DenseReluDense.wo.weight', 'decoder.block.7.layer.1.EncDecAttention.o.weight', 'decoder.block.7.layer.2.layer_norm.weight', 'decoder.block.8.layer.0.SelfAttention.v.weight', 'decoder.block.0.layer.0.SelfAttention.q.weight', 'decoder.block.10.layer.1.EncDecAttention.q.weight', 'decoder.block.4.layer.1.EncDecAttention.q.weight', 'decoder.embed_tokens.weight', 'decoder.block.3.layer.2.DenseReluDense.wi_1.weight', 'decoder.block.6.layer.0.layer_norm.weight', 'decoder.block.9.layer.1.EncDecAttention.q.weight', 'decoder.block.4.layer.1.EncDecAttention.k.weight', 'decoder.block.11.layer.0.layer_norm.weight', 'decoder.block.5.layer.0.SelfAttention.v.weight', 'decoder.block.1.layer.1.layer_norm.weight', 'decoder.block.9.layer.1.layer_norm.weight', 'decoder.block.5.layer.2.layer_norm.weight', 'decoder.block.3.layer.2.layer_norm.weight', 'decoder.block.4.layer.2.DenseReluDense.wi_1.weight', 'decoder.block.10.layer.0.SelfAttention.v.weight', 'decoder.block.10.layer.1.EncDecAttention.k.weight', 'decoder.block.3.layer.0.SelfAttention.v.weight', 'decoder.block.1.layer.2.DenseReluDense.wi_1.weight', 'decoder.block.2.layer.1.EncDecAttention.v.weight', 'decoder.block.3.layer.1.EncDecAttention.v.weight', 'decoder.block.0.layer.0.layer_norm.weight', 'decoder.block.2.layer.1.layer_norm.weight', 'decoder.block.2.layer.2.layer_norm.weight', 'decoder.block.3.layer.1.EncDecAttention.q.weight', 'decoder.block.6.layer.0.SelfAttention.q.weight', 'decoder.block.7.layer.0.SelfAttention.v.weight', 'decoder.block.4.layer.1.EncDecAttention.o.weight', 'decoder.block.5.layer.0.SelfAttention.q.weight', 'decoder.block.9.layer.2.DenseReluDense.wi_0.weight', 'decoder.block.10.layer.1.EncDecAttention.v.weight', 'decoder.block.6.layer.0.SelfAttention.v.weight', 'decoder.block.5.layer.0.SelfAttention.o.weight', 'decoder.block.8.layer.1.EncDecAttention.o.weight', 'decoder.block.7.layer.2.DenseReluDense.wi_1.weight', 'decoder.block.9.layer.2.layer_norm.weight', 'decoder.block.3.layer.0.SelfAttention.k.weight', 'decoder.block.1.layer.0.layer_norm.weight', 'decoder.block.8.layer.2.layer_norm.weight', 'decoder.block.8.layer.2.DenseReluDense.wi_0.weight', 'decoder.block.0.layer.0.SelfAttention.o.weight', 'decoder.block.7.layer.0.SelfAttention.o.weight', 'decoder.block.8.layer.1.layer_norm.weight', 'decoder.block.11.layer.2.DenseReluDense.wo.weight', 'decoder.block.0.layer.0.SelfAttention.k.weight', 'decoder.block.3.layer.2.DenseReluDense.wo.weight', 'decoder.block.9.layer.0.layer_norm.weight', 'lm_head.weight', 'decoder.block.10.layer.0.SelfAttention.q.weight', 'decoder.block.1.layer.0.SelfAttention.k.weight', 'decoder.final_layer_norm.weight', 'decoder.block.3.layer.1.EncDecAttention.k.weight', 'decoder.block.2.layer.0.layer_norm.weight', 'decoder.block.10.layer.0.SelfAttention.k.weight', 'decoder.block.2.layer.0.SelfAttention.o.weight', 'decoder.block.11.layer.2.layer_norm.weight', 'decoder.block.2.layer.0.SelfAttention.q.weight', 'decoder.block.8.layer.0.SelfAttention.k.weight', 'decoder.block.6.layer.2.layer_norm.weight', 'decoder.block.0.layer.0.SelfAttention.v.weight', 'decoder.block.0.layer.1.EncDecAttention.q.weight', 'decoder.block.4.layer.0.layer_norm.weight', 'decoder.block.10.layer.1.layer_norm.weight', 'decoder.block.3.layer.2.DenseReluDense.wi_0.weight', 'decoder.block.0.layer.2.DenseReluDense.wi_1.weight', 'decoder.block.8.layer.1.EncDecAttention.k.weight', 'decoder.block.8.layer.1.EncDecAttention.q.weight', 'decoder.block.1.layer.0.SelfAttention.v.weight', 'decoder.block.10.layer.2.DenseReluDense.wo.weight', 'decoder.block.10.layer.1.EncDecAttention.o.weight', 'decoder.block.2.layer.1.EncDecAttention.k.weight', 'decoder.block.5.layer.1.EncDecAttention.k.weight', 'decoder.block.3.layer.0.SelfAttention.q.weight', 'decoder.block.8.layer.1.EncDecAttention.v.weight', 'decoder.block.8.layer.0.SelfAttention.q.weight', 'decoder.block.4.layer.0.SelfAttention.q.weight', 'decoder.block.9.layer.1.EncDecAttention.v.weight', 'decoder.block.4.layer.0.SelfAttention.v.weight', 'decoder.block.10.layer.2.DenseReluDense.wi_1.weight', 'decoder.block.11.layer.1.layer_norm.weight', 'decoder.block.4.layer.1.EncDecAttention.v.weight', 'decoder.block.0.layer.0.SelfAttention.relative_attention_bias.weight', 'decoder.block.10.layer.0.SelfAttention.o.weight', 'decoder.block.0.layer.2.DenseReluDense.wo.weight', 'decoder.block.1.layer.2.layer_norm.weight', 'decoder.block.11.layer.1.EncDecAttention.o.weight', 'decoder.block.5.layer.0.SelfAttention.k.weight', 'decoder.block.9.layer.0.SelfAttention.o.weight', 'decoder.block.9.layer.1.EncDecAttention.o.weight', 'decoder.block.9.layer.0.SelfAttention.q.weight', 'decoder.block.3.layer.1.EncDecAttention.o.weight', 'decoder.block.5.layer.1.EncDecAttention.q.weight']\n",
      "- This IS expected if you are initializing T5EncoderModel from the checkpoint of a model trained on another task or with another architecture (e.g. initializing a BertForSequenceClassification model from a BertForPreTraining model).\n",
      "- This IS NOT expected if you are initializing T5EncoderModel from the checkpoint of a model that you expect to be exactly identical (initializing a BertForSequenceClassification model from a BertForSequenceClassification model).\n"
     ]
    },
    {
     "data": {
      "text/plain": [
       "<All keys matched successfully>"
      ]
     },
     "execution_count": 31,
     "metadata": {},
     "output_type": "execute_result"
    }
   ],
   "source": [
    "#load tokenizer\n",
    "try: # load pretrained tokenizer from local directory\n",
    "    CFG.tokenizer = AutoTokenizer.from_pretrained(CFG.model_name_or_path+'/tokenizer', return_tensors='pt')\n",
    "except: # load pretrained tokenizer from huggingface model hub\n",
    "    CFG.tokenizer = AutoTokenizer.from_pretrained(CFG.model_name_or_path, return_tensors='pt')\n",
    "\n",
    "def prepare_input(cfg, text):\n",
    "    inputs = cfg.tokenizer(text, add_special_tokens=True, max_length=CFG.max_len, padding='max_length', return_offsets_mapping=False, truncation=True, return_attention_mask=True)\n",
    "    for k, v in inputs.items():\n",
    "        inputs[k] = torch.tensor(v, dtype=torch.long)\n",
    "    \n",
    "    return inputs\n",
    "\n",
    "class TestDataset(Dataset):\n",
    "    def __init__(self, cfg, df):\n",
    "        self.cfg = cfg\n",
    "        self.inputs = df['input'].values\n",
    "        \n",
    "    def __len__(self):\n",
    "        return len(self.inputs)\n",
    "    \n",
    "    def __getitem__(self, item):\n",
    "        inputs = prepare_input(self.cfg, self.inputs[item])\n",
    "        \n",
    "        return inputs\n",
    "    \n",
    "\n",
    "       \n",
    "class RegressionModel(nn.Module):\n",
    "    def __init__(self, cfg, config_path=None, pretrained=False):\n",
    "        super().__init__()\n",
    "        self.cfg = cfg\n",
    "        if config_path is None:\n",
    "            self.config = AutoConfig.from_pretrained(cfg.pretrained_model_name_or_path, output_hidden_states=True)\n",
    "        else:\n",
    "            self.config = torch.load(config_path)\n",
    "        if pretrained:\n",
    "            if 't5' in cfg.pretrained_model_name_or_path:\n",
    "                self.model = T5EncoderModel.from_pretrained(CFG.pretrained_model_name_or_path, config=self.config)\n",
    "            else:\n",
    "                self.model = AutoModel.from_pretrained(CFG.pretrained_model_name_or_path, config=self.config)\n",
    "        else:\n",
    "            if True:\n",
    "                self.model = T5EncoderModel.from_pretrained('sagawa/ZINC-t5', config=self.config)\n",
    "            else:\n",
    "                self.model = AutoModel.from_config(self.config)\n",
    "        self.model.resize_token_embeddings(len(cfg.tokenizer))\n",
    "        self.fc_dropout1 = nn.Dropout(cfg.fc_dropout)\n",
    "        self.fc1 = nn.Linear(self.config.hidden_size, self.config.hidden_size)\n",
    "        self.fc_dropout2 = nn.Dropout(cfg.fc_dropout)\n",
    "        self.fc2 = nn.Linear(self.config.hidden_size, 1)\n",
    "        \n",
    "    def forward(self, inputs):\n",
    "        outputs = self.model(**inputs)\n",
    "        last_hidden_states = outputs[0]\n",
    "        output = self.fc1(self.fc_dropout1(last_hidden_states)[:, 0, :].view(-1, self.config.hidden_size))\n",
    "        output = self.fc2(self.fc_dropout2(output))\n",
    "        return output\n",
    "    \n",
    "\n",
    "    \n",
    "def inference_fn(test_loader, model, device):\n",
    "    preds = []\n",
    "    model.eval()\n",
    "    model.to(device)\n",
    "    tk0 = tqdm(test_loader, total=len(test_loader))\n",
    "    for inputs in tk0:\n",
    "        for k, v in inputs.items():\n",
    "            inputs[k] = v.to(device)\n",
    "        with torch.no_grad():\n",
    "            y_preds = model(inputs)\n",
    "        preds.append(y_preds.to('cpu').numpy())\n",
    "    predictions = np.concatenate(preds)\n",
    "    return predictions\n",
    "\n",
    "\n",
    "test_dataset = TestDataset(CFG, test_ds)\n",
    "test_loader = DataLoader(test_dataset,\n",
    "                         batch_size=CFG.batch_size,\n",
    "                         shuffle=False,\n",
    "                         num_workers=CFG.num_workers, pin_memory=True, drop_last=False)\n",
    "predictions = []\n",
    "\n",
    "model = RegressionModel(CFG, config_path=CFG.model_name_or_path + '/config.pth', pretrained=False)\n",
    "state = torch.load(CFG.model_name_or_path + '/ZINC-t5_best.pth', map_location=torch.device('cpu'))\n",
    "model.load_state_dict(state)\n",
    "\n",
    "\n",
    " "
   ]
  },
  {
   "cell_type": "code",
   "execution_count": 32,
   "id": "ce422ead",
   "metadata": {},
   "outputs": [
    {
     "data": {
      "application/vnd.jupyter.widget-view+json": {
       "model_id": "3d10e80454d4499d81725631a4c4bf0d",
       "version_major": 2,
       "version_minor": 0
      },
      "text/plain": [
       "  0%|          | 0/100 [00:00<?, ?it/s]"
      ]
     },
     "metadata": {},
     "output_type": "display_data"
    },
    {
     "data": {
      "text/plain": [
       "array([[0.63496447],\n",
       "       [0.88279617],\n",
       "       [0.6655084 ],\n",
       "       [0.62741876],\n",
       "       [0.66845524],\n",
       "       [0.6833414 ],\n",
       "       [0.6394496 ],\n",
       "       [0.59902155],\n",
       "       [0.5515357 ],\n",
       "       [0.35360926],\n",
       "       [0.6612506 ],\n",
       "       [0.6536778 ],\n",
       "       [0.17100209],\n",
       "       [0.76545405],\n",
       "       [0.55786943],\n",
       "       [0.56836164],\n",
       "       [0.64050794],\n",
       "       [0.507064  ],\n",
       "       [0.62926114],\n",
       "       [0.6844653 ],\n",
       "       [0.8316356 ],\n",
       "       [0.40217593],\n",
       "       [0.6495297 ],\n",
       "       [0.6949899 ],\n",
       "       [0.5289475 ],\n",
       "       [0.66726243],\n",
       "       [0.5060371 ],\n",
       "       [0.3532765 ],\n",
       "       [0.5428307 ],\n",
       "       [0.6304369 ],\n",
       "       [0.6990107 ],\n",
       "       [0.37147972],\n",
       "       [0.5991924 ],\n",
       "       [0.46930087],\n",
       "       [0.7791816 ],\n",
       "       [0.5646428 ],\n",
       "       [0.44927165],\n",
       "       [0.72419083],\n",
       "       [0.7670516 ],\n",
       "       [0.6665206 ],\n",
       "       [0.5843389 ],\n",
       "       [0.6230478 ],\n",
       "       [0.52603865],\n",
       "       [0.62091744],\n",
       "       [0.5787926 ],\n",
       "       [0.7471688 ],\n",
       "       [0.5209596 ],\n",
       "       [0.4488422 ],\n",
       "       [0.74226034],\n",
       "       [0.8205104 ],\n",
       "       [0.6134435 ],\n",
       "       [0.47767025],\n",
       "       [0.628157  ],\n",
       "       [0.50242543],\n",
       "       [0.49608296],\n",
       "       [0.76701605],\n",
       "       [0.77321243],\n",
       "       [0.34903452],\n",
       "       [0.34096423],\n",
       "       [0.52718043],\n",
       "       [0.17143148],\n",
       "       [0.6486653 ],\n",
       "       [0.6332706 ],\n",
       "       [0.30404094],\n",
       "       [0.5482216 ],\n",
       "       [0.6131575 ],\n",
       "       [0.65358686],\n",
       "       [0.459796  ],\n",
       "       [0.6486771 ],\n",
       "       [0.48906478],\n",
       "       [0.50773084],\n",
       "       [0.22245815],\n",
       "       [0.79445755],\n",
       "       [0.5419755 ],\n",
       "       [0.5496012 ],\n",
       "       [0.3998285 ],\n",
       "       [0.4342999 ],\n",
       "       [0.5398729 ],\n",
       "       [0.56160223],\n",
       "       [0.5874808 ],\n",
       "       [0.6149919 ],\n",
       "       [0.65286803],\n",
       "       [0.589414  ],\n",
       "       [0.6879808 ],\n",
       "       [0.4472185 ],\n",
       "       [0.3627668 ],\n",
       "       [0.6423919 ],\n",
       "       [0.6006601 ],\n",
       "       [0.549886  ],\n",
       "       [0.25036973],\n",
       "       [0.08880114],\n",
       "       [0.62237716],\n",
       "       [0.4852957 ],\n",
       "       [0.66447794],\n",
       "       [0.3169444 ],\n",
       "       [0.68545055],\n",
       "       [0.22825974],\n",
       "       [0.27282345],\n",
       "       [0.73262274],\n",
       "       [0.60706794],\n",
       "       [0.5640464 ],\n",
       "       [0.5838206 ],\n",
       "       [0.7628584 ],\n",
       "       [0.4797693 ],\n",
       "       [0.7217498 ],\n",
       "       [0.5001627 ],\n",
       "       [0.7376348 ],\n",
       "       [0.66202354],\n",
       "       [0.09870727],\n",
       "       [0.577813  ],\n",
       "       [0.7640655 ],\n",
       "       [0.63899875],\n",
       "       [0.24665678],\n",
       "       [0.7087145 ],\n",
       "       [0.6537826 ],\n",
       "       [0.3291788 ],\n",
       "       [0.7073144 ],\n",
       "       [0.60427284],\n",
       "       [0.5903928 ],\n",
       "       [0.620661  ],\n",
       "       [0.44352224],\n",
       "       [0.5826287 ],\n",
       "       [0.63142145],\n",
       "       [0.5452665 ],\n",
       "       [0.698827  ],\n",
       "       [0.71206963],\n",
       "       [0.33989665],\n",
       "       [0.3524648 ],\n",
       "       [0.49722788],\n",
       "       [0.56335723],\n",
       "       [0.5870024 ],\n",
       "       [0.7510607 ],\n",
       "       [0.68521845],\n",
       "       [0.7136855 ],\n",
       "       [0.4912641 ],\n",
       "       [0.67311895],\n",
       "       [0.5670992 ],\n",
       "       [0.549183  ],\n",
       "       [0.49084482],\n",
       "       [0.73053694],\n",
       "       [0.7202871 ],\n",
       "       [0.5559498 ],\n",
       "       [0.64531434],\n",
       "       [0.6608422 ],\n",
       "       [0.60414195],\n",
       "       [0.6289332 ],\n",
       "       [0.85712457],\n",
       "       [0.6559261 ],\n",
       "       [0.54534864],\n",
       "       [0.6352136 ],\n",
       "       [0.20048212],\n",
       "       [0.6047071 ],\n",
       "       [0.65099454],\n",
       "       [0.45465383],\n",
       "       [0.62059927],\n",
       "       [0.6541709 ],\n",
       "       [0.6429516 ],\n",
       "       [0.5656103 ],\n",
       "       [0.6759453 ],\n",
       "       [0.73320246],\n",
       "       [0.6370126 ],\n",
       "       [0.571496  ],\n",
       "       [0.5209565 ],\n",
       "       [0.5836123 ],\n",
       "       [0.46412095],\n",
       "       [0.47593072],\n",
       "       [0.44973856],\n",
       "       [0.6373085 ],\n",
       "       [0.49372634],\n",
       "       [0.75814223],\n",
       "       [0.67573273],\n",
       "       [0.8175039 ],\n",
       "       [0.61046636],\n",
       "       [0.6959759 ],\n",
       "       [0.49780473],\n",
       "       [0.5937687 ],\n",
       "       [0.6229205 ],\n",
       "       [0.57874465],\n",
       "       [0.6842358 ],\n",
       "       [0.5245918 ],\n",
       "       [0.3280522 ],\n",
       "       [0.54185593],\n",
       "       [0.5763029 ],\n",
       "       [0.18977782],\n",
       "       [0.8197408 ],\n",
       "       [0.48928183],\n",
       "       [0.6698195 ],\n",
       "       [0.5541471 ],\n",
       "       [0.28971264],\n",
       "       [0.7916151 ],\n",
       "       [0.6223397 ],\n",
       "       [0.512594  ],\n",
       "       [0.5910239 ],\n",
       "       [0.6001141 ],\n",
       "       [0.54808843],\n",
       "       [0.51968616],\n",
       "       [0.52637035],\n",
       "       [0.52767944],\n",
       "       [0.57109904],\n",
       "       [0.6818521 ],\n",
       "       [0.59693706],\n",
       "       [0.798432  ],\n",
       "       [0.83794284],\n",
       "       [0.5160221 ],\n",
       "       [0.5572351 ],\n",
       "       [0.5728693 ],\n",
       "       [0.6456573 ],\n",
       "       [0.5785223 ],\n",
       "       [0.6930442 ],\n",
       "       [0.6061206 ],\n",
       "       [0.7165086 ],\n",
       "       [0.52444077],\n",
       "       [0.73832333],\n",
       "       [0.7112342 ],\n",
       "       [0.7225969 ],\n",
       "       [0.5362325 ],\n",
       "       [0.72269154],\n",
       "       [0.6169094 ],\n",
       "       [0.43341967],\n",
       "       [0.63356817],\n",
       "       [0.58953416],\n",
       "       [0.5030196 ],\n",
       "       [0.8356395 ],\n",
       "       [0.40418634],\n",
       "       [0.44012097],\n",
       "       [0.5989182 ],\n",
       "       [0.7419846 ],\n",
       "       [0.82458425],\n",
       "       [0.54615116],\n",
       "       [0.6663523 ],\n",
       "       [0.69257045],\n",
       "       [0.5832796 ],\n",
       "       [0.84325457],\n",
       "       [0.5709069 ],\n",
       "       [0.62079084],\n",
       "       [0.46491727],\n",
       "       [0.6437948 ],\n",
       "       [0.38006946],\n",
       "       [0.6601671 ],\n",
       "       [0.73531926],\n",
       "       [0.68706954],\n",
       "       [0.7500677 ],\n",
       "       [0.61550474],\n",
       "       [0.6690452 ],\n",
       "       [0.7904748 ],\n",
       "       [0.5700675 ],\n",
       "       [0.68697035],\n",
       "       [0.7763088 ],\n",
       "       [0.68708813],\n",
       "       [0.17099547],\n",
       "       [0.60793054],\n",
       "       [0.80106294],\n",
       "       [0.7079365 ],\n",
       "       [0.476679  ],\n",
       "       [0.44431677],\n",
       "       [0.42983076],\n",
       "       [0.6479937 ],\n",
       "       [0.651611  ],\n",
       "       [0.65371346],\n",
       "       [0.50142395],\n",
       "       [0.569595  ],\n",
       "       [0.6262933 ],\n",
       "       [0.28739792],\n",
       "       [0.5960885 ],\n",
       "       [0.8158877 ],\n",
       "       [0.78579366],\n",
       "       [0.39489025],\n",
       "       [0.65155137],\n",
       "       [0.25669727],\n",
       "       [0.37840354],\n",
       "       [0.36946738],\n",
       "       [0.3023375 ],\n",
       "       [0.4898436 ],\n",
       "       [0.639675  ],\n",
       "       [0.51969784],\n",
       "       [0.6488749 ],\n",
       "       [0.7038034 ],\n",
       "       [0.46157837],\n",
       "       [0.5955875 ],\n",
       "       [0.71406364],\n",
       "       [0.5192034 ],\n",
       "       [0.7862345 ],\n",
       "       [0.73696685],\n",
       "       [0.6869972 ],\n",
       "       [0.77265716],\n",
       "       [0.6538168 ],\n",
       "       [0.51682127],\n",
       "       [0.59537804],\n",
       "       [0.6126914 ],\n",
       "       [0.5362259 ],\n",
       "       [0.33693257],\n",
       "       [0.62279284],\n",
       "       [0.45586511],\n",
       "       [0.5066298 ],\n",
       "       [0.36148152],\n",
       "       [0.71698606],\n",
       "       [0.1645121 ],\n",
       "       [0.8013176 ],\n",
       "       [0.6493434 ],\n",
       "       [0.7277235 ],\n",
       "       [0.679587  ],\n",
       "       [0.4451106 ],\n",
       "       [0.45534858],\n",
       "       [0.24888746],\n",
       "       [0.59813035],\n",
       "       [0.4747004 ],\n",
       "       [0.43023103],\n",
       "       [0.61721754],\n",
       "       [0.76938665],\n",
       "       [0.650725  ],\n",
       "       [0.88834846],\n",
       "       [0.4523945 ],\n",
       "       [0.78235686],\n",
       "       [0.575827  ],\n",
       "       [0.23692249],\n",
       "       [0.5559025 ],\n",
       "       [0.706069  ],\n",
       "       [0.30337647],\n",
       "       [0.7721162 ],\n",
       "       [0.6562489 ],\n",
       "       [0.5605577 ],\n",
       "       [0.64911616],\n",
       "       [0.55136967],\n",
       "       [0.80415046],\n",
       "       [0.68506145],\n",
       "       [0.21637431],\n",
       "       [0.4834575 ],\n",
       "       [0.82429945],\n",
       "       [0.59019566],\n",
       "       [0.7461108 ],\n",
       "       [0.77455366],\n",
       "       [0.6599848 ],\n",
       "       [0.74746644],\n",
       "       [0.6330216 ],\n",
       "       [0.5369961 ],\n",
       "       [0.7866261 ],\n",
       "       [0.71967447],\n",
       "       [0.67333674],\n",
       "       [0.57845247],\n",
       "       [0.5080905 ],\n",
       "       [0.6645169 ],\n",
       "       [0.72678554],\n",
       "       [0.5327703 ],\n",
       "       [0.6749499 ],\n",
       "       [0.43778035],\n",
       "       [0.30476376],\n",
       "       [0.6495652 ],\n",
       "       [0.5396347 ],\n",
       "       [0.63850904],\n",
       "       [0.5722295 ],\n",
       "       [0.65609133],\n",
       "       [0.8547827 ],\n",
       "       [0.7830912 ],\n",
       "       [0.5917983 ],\n",
       "       [0.55680287],\n",
       "       [0.41531765],\n",
       "       [0.39781997],\n",
       "       [0.30431762],\n",
       "       [0.5613321 ],\n",
       "       [0.67937946],\n",
       "       [0.27083874],\n",
       "       [0.23605102],\n",
       "       [0.42609176],\n",
       "       [0.66680527],\n",
       "       [0.51654065],\n",
       "       [0.75376236],\n",
       "       [0.7635399 ],\n",
       "       [0.5441178 ],\n",
       "       [0.6365279 ],\n",
       "       [0.7047688 ],\n",
       "       [0.71573675],\n",
       "       [0.6609613 ],\n",
       "       [0.6766577 ],\n",
       "       [0.63014424],\n",
       "       [0.5239078 ],\n",
       "       [0.5232235 ],\n",
       "       [0.54304457],\n",
       "       [0.59131074],\n",
       "       [0.6551919 ],\n",
       "       [0.6893958 ],\n",
       "       [0.25518295],\n",
       "       [0.4858339 ],\n",
       "       [0.46304044],\n",
       "       [0.5835465 ],\n",
       "       [0.6911565 ],\n",
       "       [0.24658297],\n",
       "       [0.67904055],\n",
       "       [0.6663952 ],\n",
       "       [0.5889541 ],\n",
       "       [0.7299428 ],\n",
       "       [0.5404061 ],\n",
       "       [0.51120746],\n",
       "       [0.613387  ],\n",
       "       [0.6974567 ],\n",
       "       [0.5546727 ],\n",
       "       [0.56510377],\n",
       "       [0.2223703 ],\n",
       "       [0.10867777],\n",
       "       [0.8568928 ],\n",
       "       [0.6602732 ],\n",
       "       [0.6645416 ],\n",
       "       [0.522347  ],\n",
       "       [0.9196738 ],\n",
       "       [0.38081205],\n",
       "       [0.6779431 ],\n",
       "       [0.7054473 ],\n",
       "       [0.6901021 ],\n",
       "       [0.5212256 ],\n",
       "       [0.50866485],\n",
       "       [0.62623763],\n",
       "       [0.40991816],\n",
       "       [0.870481  ],\n",
       "       [0.6974164 ],\n",
       "       [0.67445564],\n",
       "       [0.6334635 ],\n",
       "       [0.6619468 ],\n",
       "       [0.5979562 ],\n",
       "       [0.22245815],\n",
       "       [0.5889871 ],\n",
       "       [0.43504646],\n",
       "       [0.6428336 ],\n",
       "       [0.7530043 ],\n",
       "       [0.54609835],\n",
       "       [0.63034976],\n",
       "       [0.5031811 ],\n",
       "       [0.5027944 ],\n",
       "       [0.68859696],\n",
       "       [0.51071787],\n",
       "       [0.588989  ],\n",
       "       [0.73531306],\n",
       "       [0.699911  ],\n",
       "       [0.6144692 ],\n",
       "       [0.78984094],\n",
       "       [0.489567  ],\n",
       "       [0.62926376],\n",
       "       [0.6073165 ],\n",
       "       [0.70258915],\n",
       "       [0.37969002],\n",
       "       [0.447823  ],\n",
       "       [0.66537285],\n",
       "       [0.6066433 ],\n",
       "       [0.5053543 ],\n",
       "       [0.37097752],\n",
       "       [0.64721024],\n",
       "       [0.7558056 ],\n",
       "       [0.57442725],\n",
       "       [0.3145877 ],\n",
       "       [0.6092355 ],\n",
       "       [0.6346817 ],\n",
       "       [0.4361605 ],\n",
       "       [0.7613491 ],\n",
       "       [0.7468319 ],\n",
       "       [0.58574677],\n",
       "       [0.4048614 ],\n",
       "       [0.45740774],\n",
       "       [0.48717356],\n",
       "       [0.5955957 ],\n",
       "       [0.56915915],\n",
       "       [0.3459325 ],\n",
       "       [0.4619744 ],\n",
       "       [0.7610247 ],\n",
       "       [0.58632576],\n",
       "       [0.66596556],\n",
       "       [0.6489036 ],\n",
       "       [0.51535046],\n",
       "       [0.54335153],\n",
       "       [0.69846606],\n",
       "       [0.687659  ],\n",
       "       [0.8067417 ],\n",
       "       [0.49092922],\n",
       "       [0.7675127 ],\n",
       "       [0.6559881 ],\n",
       "       [0.23657024],\n",
       "       [0.55220175],\n",
       "       [0.8767992 ],\n",
       "       [0.5990881 ],\n",
       "       [0.5240655 ],\n",
       "       [0.38601372],\n",
       "       [0.7146214 ],\n",
       "       [0.6970155 ],\n",
       "       [0.6320243 ],\n",
       "       [0.44102433],\n",
       "       [0.55765784],\n",
       "       [0.7162204 ],\n",
       "       [0.68482447],\n",
       "       [0.5505351 ],\n",
       "       [0.5210276 ],\n",
       "       [0.7994909 ],\n",
       "       [0.7316494 ],\n",
       "       [0.43674314],\n",
       "       [0.69182956],\n",
       "       [0.59622025],\n",
       "       [0.66457593],\n",
       "       [0.55112314],\n",
       "       [0.33903632],\n",
       "       [0.71682715],\n",
       "       [0.7897562 ],\n",
       "       [0.65931857],\n",
       "       [0.4150425 ],\n",
       "       [0.45141384]], dtype=float32)"
      ]
     },
     "execution_count": 32,
     "metadata": {},
     "output_type": "execute_result"
    }
   ],
   "source": [
    "prediction = inference_fn(test_loader, model, device)\n",
    "prediction"
   ]
  },
  {
   "cell_type": "code",
   "execution_count": 48,
   "id": "25fde97d",
   "metadata": {},
   "outputs": [
    {
     "data": {
      "text/html": [
       "<div>\n",
       "<style scoped>\n",
       "    .dataframe tbody tr th:only-of-type {\n",
       "        vertical-align: middle;\n",
       "    }\n",
       "\n",
       "    .dataframe tbody tr th {\n",
       "        vertical-align: top;\n",
       "    }\n",
       "\n",
       "    .dataframe thead th {\n",
       "        text-align: right;\n",
       "    }\n",
       "</style>\n",
       "<table border=\"1\" class=\"dataframe\">\n",
       "  <thead>\n",
       "    <tr style=\"text-align: right;\">\n",
       "      <th></th>\n",
       "      <th>input</th>\n",
       "    </tr>\n",
       "  </thead>\n",
       "  <tbody>\n",
       "    <tr>\n",
       "      <th>0</th>\n",
       "      <td>REACTANT:CCN(CC)CC.CCOC(=O)Cl.NCCC1(O)CCc2cccc</td>\n",
       "    </tr>\n",
       "  </tbody>\n",
       "</table>\n",
       "</div>"
      ],
      "text/plain": [
       "                                            input\n",
       "0  REACTANT:CCN(CC)CC.CCOC(=O)Cl.NCCC1(O)CCc2cccc"
      ]
     },
     "execution_count": 48,
     "metadata": {},
     "output_type": "execute_result"
    }
   ],
   "source": []
  },
  {
   "cell_type": "code",
   "execution_count": null,
   "id": "de7ca374",
   "metadata": {},
   "outputs": [],
   "source": []
  },
  {
   "cell_type": "code",
   "execution_count": null,
   "id": "3963aa38",
   "metadata": {},
   "outputs": [],
   "source": []
  },
  {
   "cell_type": "code",
   "execution_count": null,
   "id": "a16df29c",
   "metadata": {},
   "outputs": [],
   "source": []
  },
  {
   "cell_type": "code",
   "execution_count": null,
   "id": "239a1a82",
   "metadata": {},
   "outputs": [],
   "source": []
  },
  {
   "cell_type": "code",
   "execution_count": null,
   "id": "c0e1cf2c",
   "metadata": {},
   "outputs": [],
   "source": []
  },
  {
   "cell_type": "code",
   "execution_count": null,
   "id": "0c421a06",
   "metadata": {},
   "outputs": [],
   "source": []
  },
  {
   "cell_type": "code",
   "execution_count": 9,
   "id": "3b61e5d9",
   "metadata": {},
   "outputs": [
    {
     "name": "stderr",
     "output_type": "stream",
     "text": [
      "Using custom data configuration default-b2d5b87c6450700e\n"
     ]
    },
    {
     "name": "stdout",
     "output_type": "stream",
     "text": [
      "Downloading and preparing dataset csv/default to /home/sagawa/.cache/huggingface/datasets/csv/default-b2d5b87c6450700e/0.0.0/652c3096f041ee27b04d2232d41f10547a8fecda3e284a79a0ec4053c916ef7a...\n"
     ]
    },
    {
     "data": {
      "application/vnd.jupyter.widget-view+json": {
       "model_id": "004d17848bcf4dd9a480ec5c19086c31",
       "version_major": 2,
       "version_minor": 0
      },
      "text/plain": [
       "Downloading data files:   0%|          | 0/3 [00:00<?, ?it/s]"
      ]
     },
     "metadata": {},
     "output_type": "display_data"
    },
    {
     "data": {
      "application/vnd.jupyter.widget-view+json": {
       "model_id": "f7206bb187724f06bee3cf3a6d4d1704",
       "version_major": 2,
       "version_minor": 0
      },
      "text/plain": [
       "Extracting data files:   0%|          | 0/3 [00:00<?, ?it/s]"
      ]
     },
     "metadata": {},
     "output_type": "display_data"
    },
    {
     "data": {
      "application/vnd.jupyter.widget-view+json": {
       "model_id": "",
       "version_major": 2,
       "version_minor": 0
      },
      "text/plain": [
       "0 tables [00:00, ? tables/s]"
      ]
     },
     "metadata": {},
     "output_type": "display_data"
    },
    {
     "data": {
      "application/vnd.jupyter.widget-view+json": {
       "model_id": "",
       "version_major": 2,
       "version_minor": 0
      },
      "text/plain": [
       "0 tables [00:00, ? tables/s]"
      ]
     },
     "metadata": {},
     "output_type": "display_data"
    },
    {
     "data": {
      "application/vnd.jupyter.widget-view+json": {
       "model_id": "",
       "version_major": 2,
       "version_minor": 0
      },
      "text/plain": [
       "0 tables [00:00, ? tables/s]"
      ]
     },
     "metadata": {},
     "output_type": "display_data"
    },
    {
     "name": "stdout",
     "output_type": "stream",
     "text": [
      "Dataset csv downloaded and prepared to /home/sagawa/.cache/huggingface/datasets/csv/default-b2d5b87c6450700e/0.0.0/652c3096f041ee27b04d2232d41f10547a8fecda3e284a79a0ec4053c916ef7a. Subsequent calls will reuse this data.\n"
     ]
    },
    {
     "data": {
      "application/vnd.jupyter.widget-view+json": {
       "model_id": "868bbb0fd6d444948af2ecfbe8acfa45",
       "version_major": 2,
       "version_minor": 0
      },
      "text/plain": [
       "  0%|          | 0/3 [00:00<?, ?it/s]"
      ]
     },
     "metadata": {},
     "output_type": "display_data"
    },
    {
     "ename": "AttributeError",
     "evalue": "'DatasetDict' object has no attribute 'to_json'",
     "output_type": "error",
     "traceback": [
      "\u001b[0;31m---------------------------------------------------------------------------\u001b[0m",
      "\u001b[0;31mAttributeError\u001b[0m                            Traceback (most recent call last)",
      "Input \u001b[0;32mIn [9]\u001b[0m, in \u001b[0;36m<cell line: 7>\u001b[0;34m()\u001b[0m\n\u001b[1;32m      5\u001b[0m data_files \u001b[38;5;241m=\u001b[39m {\u001b[38;5;124m\"\u001b[39m\u001b[38;5;124mtrain\u001b[39m\u001b[38;5;124m\"\u001b[39m: \u001b[38;5;124m\"\u001b[39m\u001b[38;5;124m../tcrp-test/transformer-chemical-reaction-prediciton/data/all_ord_reaction_uniq_canonicalized-train.csv\u001b[39m\u001b[38;5;124m\"\u001b[39m, \u001b[38;5;124m\"\u001b[39m\u001b[38;5;124mtest\u001b[39m\u001b[38;5;124m\"\u001b[39m: \u001b[38;5;124m\"\u001b[39m\u001b[38;5;124m../tcrp-test/transformer-chemical-reaction-prediciton/data/all_ord_reaction_uniq_canonicalized-test.csv\u001b[39m\u001b[38;5;124m\"\u001b[39m, \u001b[38;5;124m\"\u001b[39m\u001b[38;5;124mvalidation\u001b[39m\u001b[38;5;124m\"\u001b[39m:\u001b[38;5;124m\"\u001b[39m\u001b[38;5;124m../tcrp-test/transformer-chemical-reaction-prediciton/data/all_ord_reaction_uniq_canonicalized-valid.csv\u001b[39m\u001b[38;5;124m\"\u001b[39m}\n\u001b[1;32m      6\u001b[0m ds \u001b[38;5;241m=\u001b[39m load_dataset(\u001b[38;5;124m'\u001b[39m\u001b[38;5;124mcsv\u001b[39m\u001b[38;5;124m'\u001b[39m, data_files\u001b[38;5;241m=\u001b[39mdata_files)\n\u001b[0;32m----> 7\u001b[0m \u001b[43mds\u001b[49m\u001b[38;5;241;43m.\u001b[39;49m\u001b[43mto_json\u001b[49m(\u001b[38;5;124m\"\u001b[39m\u001b[38;5;124m../tcrp-test/transformer-chemical-reaction-prediciton/data/ord_datasets.jsonl\u001b[39m\u001b[38;5;124m\"\u001b[39m)\n",
      "\u001b[0;31mAttributeError\u001b[0m: 'DatasetDict' object has no attribute 'to_json'"
     ]
    }
   ],
   "source": [
    "# train = pd.read_csv('../tcrp-test/transformer-chemical-reaction-prediciton/data/all_ord_reaction_uniq_canonicalized-train.csv')\n",
    "# validation = pd.read_csv('../tcrp-test/transformer-chemical-reaction-prediciton/data/all_ord_reaction_uniq_canonicalized-valid.csv')\n",
    "# test = pd.read_csv('../tcrp-test/transformer-chemical-reaction-prediciton/data/all_ord_reaction_uniq_canonicalized-test.csv')\n",
    "from datasets import load_dataset\n",
    "data_files = {\"train\": \"../tcrp-test/transformer-chemical-reaction-prediciton/data/all_ord_reaction_uniq_canonicalized-train.csv\", \"test\": \"../tcrp-test/transformer-chemical-reaction-prediciton/data/all_ord_reaction_uniq_canonicalized-test.csv\", \"validation\":\"../tcrp-test/transformer-chemical-reaction-prediciton/data/all_ord_reaction_uniq_canonicalized-valid.csv\"}\n",
    "ds = load_dataset('csv', data_files=data_files)\n",
    "ds.to_json(\"../tcrp-test/transformer-chemical-reaction-prediciton/data/ord_datasets.jsonl\")"
   ]
  },
  {
   "cell_type": "code",
   "execution_count": 6,
   "id": "06800fb8",
   "metadata": {},
   "outputs": [
    {
     "name": "stdout",
     "output_type": "stream",
     "text": [
      "Login successful\n",
      "Your token has been saved to /home/sagawa/.huggingface/token\n",
      "\u001b[1m\u001b[31mAuthenticated through git-credential store but this isn't the helper defined on your machine.\n",
      "You might have to re-authenticate when pushing to the Hugging Face Hub. Run the following command in your terminal in case you want to set this credential helper as the default\n",
      "\n",
      "git config --global credential.helper store\u001b[0m\n"
     ]
    }
   ],
   "source": [
    "from huggingface_hub import notebook_login\n",
    "\n",
    "notebook_login()"
   ]
  },
  {
   "cell_type": "code",
   "execution_count": 7,
   "id": "e2612b12",
   "metadata": {},
   "outputs": [
    {
     "name": "stderr",
     "output_type": "stream",
     "text": [
      "/home/sagawa/anaconda3/lib/python3.9/site-packages/huggingface_hub/hf_api.py:79: FutureWarning: `name` and `organization` input arguments are deprecated and will be removed in v0.8. Pass `repo_id` instead.\n",
      "  warnings.warn(\n"
     ]
    },
    {
     "data": {
      "text/plain": [
       "'https://huggingface.co/datasets/sagawa/ord-uniq-canonicalized'"
      ]
     },
     "execution_count": 7,
     "metadata": {},
     "output_type": "execute_result"
    }
   ],
   "source": [
    "from huggingface_hub import create_repo\n",
    "\n",
    "repo_url = create_repo(name=\"ord-uniq-canonicalized\", repo_type=\"dataset\")\n",
    "repo_url"
   ]
  },
  {
   "cell_type": "code",
   "execution_count": 11,
   "id": "8794699b",
   "metadata": {},
   "outputs": [
    {
     "name": "stderr",
     "output_type": "stream",
     "text": [
      "Pushing split train to the Hub.\n"
     ]
    },
    {
     "data": {
      "application/vnd.jupyter.widget-view+json": {
       "model_id": "56aaeb3a68364d6e924ba35e5087c084",
       "version_major": 2,
       "version_minor": 0
      },
      "text/plain": [
       "Pushing dataset shards to the dataset hub:   0%|          | 0/1 [00:00<?, ?it/s]"
      ]
     },
     "metadata": {},
     "output_type": "display_data"
    },
    {
     "name": "stderr",
     "output_type": "stream",
     "text": [
      "Pushing split test to the Hub.\n"
     ]
    },
    {
     "data": {
      "application/vnd.jupyter.widget-view+json": {
       "model_id": "53152a1f1a174b53bb36c02f66e940f7",
       "version_major": 2,
       "version_minor": 0
      },
      "text/plain": [
       "Pushing dataset shards to the dataset hub:   0%|          | 0/1 [00:00<?, ?it/s]"
      ]
     },
     "metadata": {},
     "output_type": "display_data"
    },
    {
     "name": "stderr",
     "output_type": "stream",
     "text": [
      "Pushing split validation to the Hub.\n"
     ]
    },
    {
     "data": {
      "application/vnd.jupyter.widget-view+json": {
       "model_id": "a5d894a9189e45dd942d45fa728b8b9a",
       "version_major": 2,
       "version_minor": 0
      },
      "text/plain": [
       "Pushing dataset shards to the dataset hub:   0%|          | 0/1 [00:00<?, ?it/s]"
      ]
     },
     "metadata": {},
     "output_type": "display_data"
    }
   ],
   "source": [
    "ds.push_to_hub(repo_id=\"ord-uniq-canonicalized\")"
   ]
  },
  {
   "cell_type": "code",
   "execution_count": null,
   "id": "01988236",
   "metadata": {},
   "outputs": [],
   "source": []
  },
  {
   "cell_type": "code",
   "execution_count": 17,
   "id": "d0ccd2d6",
   "metadata": {},
   "outputs": [
    {
     "name": "stderr",
     "output_type": "stream",
     "text": [
      "Using custom data configuration default-ae5678ec841ec48f\n",
      "Reusing dataset csv (/home/sagawa/.cache/huggingface/datasets/csv/default-ae5678ec841ec48f/0.0.0/652c3096f041ee27b04d2232d41f10547a8fecda3e284a79a0ec4053c916ef7a)\n"
     ]
    },
    {
     "data": {
      "application/vnd.jupyter.widget-view+json": {
       "model_id": "b6dd4ab28b73416b956bb9929490c0c3",
       "version_major": 2,
       "version_minor": 0
      },
      "text/plain": [
       "  0%|          | 0/2 [00:00<?, ?it/s]"
      ]
     },
     "metadata": {},
     "output_type": "display_data"
    },
    {
     "data": {
      "text/plain": [
       "DatasetDict({\n",
       "    train: Dataset({\n",
       "        features: ['smiles'],\n",
       "        num_rows: 8999964\n",
       "    })\n",
       "    validation: Dataset({\n",
       "        features: ['smiles'],\n",
       "        num_rows: 999996\n",
       "    })\n",
       "})"
      ]
     },
     "execution_count": 17,
     "metadata": {},
     "output_type": "execute_result"
    }
   ],
   "source": [
    "data_files = {\"train\": \"../tcrp-test/transformer-chemical-reaction-prediciton/data/pubchem-10m-canonicalized-train.csv\", \"validation\":\"../tcrp-test/transformer-chemical-reaction-prediciton/data/pubchem-10m-canonicalized-valid.csv\"}\n",
    "ds = load_dataset('csv', data_files=data_files)\n",
    "ds"
   ]
  },
  {
   "cell_type": "code",
   "execution_count": 18,
   "id": "05de5a68",
   "metadata": {},
   "outputs": [
    {
     "name": "stderr",
     "output_type": "stream",
     "text": [
      "/home/sagawa/anaconda3/lib/python3.9/site-packages/huggingface_hub/hf_api.py:79: FutureWarning: `name` and `organization` input arguments are deprecated and will be removed in v0.8. Pass `repo_id` instead.\n",
      "  warnings.warn(\n"
     ]
    },
    {
     "data": {
      "text/plain": [
       "'https://huggingface.co/datasets/sagawa/pubchem-10m-canonicalized'"
      ]
     },
     "execution_count": 18,
     "metadata": {},
     "output_type": "execute_result"
    }
   ],
   "source": [
    "repo_url = create_repo(name=\"pubchem-10m-canonicalized\", repo_type=\"dataset\")\n",
    "repo_url"
   ]
  },
  {
   "cell_type": "code",
   "execution_count": 19,
   "id": "de3fa575",
   "metadata": {},
   "outputs": [
    {
     "name": "stderr",
     "output_type": "stream",
     "text": [
      "Pushing split train to the Hub.\n"
     ]
    },
    {
     "data": {
      "application/vnd.jupyter.widget-view+json": {
       "model_id": "b53a26ca30114303bde8bd458ccc6890",
       "version_major": 2,
       "version_minor": 0
      },
      "text/plain": [
       "Pushing dataset shards to the dataset hub:   0%|          | 0/1 [00:00<?, ?it/s]"
      ]
     },
     "metadata": {},
     "output_type": "display_data"
    },
    {
     "name": "stderr",
     "output_type": "stream",
     "text": [
      "Pushing split validation to the Hub.\n"
     ]
    },
    {
     "data": {
      "application/vnd.jupyter.widget-view+json": {
       "model_id": "d4925e29c47849128d37960ab5b6a8b3",
       "version_major": 2,
       "version_minor": 0
      },
      "text/plain": [
       "Pushing dataset shards to the dataset hub:   0%|          | 0/1 [00:00<?, ?it/s]"
      ]
     },
     "metadata": {},
     "output_type": "display_data"
    }
   ],
   "source": [
    "ds.push_to_hub(repo_id=\"pubchem-10m-canonicalized\")"
   ]
  },
  {
   "cell_type": "code",
   "execution_count": 22,
   "id": "61e1e179",
   "metadata": {},
   "outputs": [
    {
     "data": {
      "text/plain": [
       "{'Unnamed: 0': [10942073,\n",
       "  3929867,\n",
       "  1828479,\n",
       "  4329395,\n",
       "  14351797,\n",
       "  6552409,\n",
       "  20973385,\n",
       "  22448411,\n",
       "  22636960,\n",
       "  2282403],\n",
       " 'text': ['O=C1NCCN1[C@@H]1CCC[NH+](Cc2cccc(O)c2)C1',\n",
       "  'CC(=O)N1c2ccc(S(=O)(=O)N3CCCC3)cc2C[C@@H]1C(=O)NCCN1CCCCCC1',\n",
       "  'Cc1nc(-c2ccc(NC(=O)[C@H]3C[C@H]4CC[C@@H]3O4)cc2)cs1',\n",
       "  'COc1ccc(C(=O)[C@H](C)Sc2nc(-c3cccs3)n[n-]2)cc1OC',\n",
       "  'CCOC(=O)c1sc(NC(=O)CCCS(=O)(=O)c2ccc(F)cc2)nc1-c1ccccc1',\n",
       "  'O=C(NC[C@H]1CCCO1)c1ccc2c(c1)ncn2-c1ccccc1',\n",
       "  'O=C(c1cc(F)c(F)cc1F)N1CC[NH+]([C@H](c2ccccc2)c2ccc(F)cc2)CC1',\n",
       "  'Cc1c(C(=O)N(Cc2ccccc2)[C@@H](C)CCO)cnn1-c1ccccn1',\n",
       "  'C[C@@H](Oc1cccc(C#N)c1)C(=O)Nc1cc(C2CCOCC2)n[nH]1',\n",
       "  'CCCCn1c(S[C@@H](C)C(=O)Nc2ccc(C(C)=O)cc2)n[nH]c1=O']}"
      ]
     },
     "execution_count": 22,
     "metadata": {},
     "output_type": "execute_result"
    }
   ],
   "source": [
    "ds['train'][:10]"
   ]
  },
  {
   "cell_type": "code",
   "execution_count": 35,
   "id": "f385d384",
   "metadata": {},
   "outputs": [],
   "source": [
    "train = pd.read_csv(\"../tcrp-test/transformer-chemical-reaction-prediciton/data/ZINC-canonicalized-train.csv\")\n",
    "train = train.rename(columns={'text':'smiles'}).drop(['Unnamed: 0'], axis=1)\n",
    "train.to_csv(\"../tcrp-test/transformer-chemical-reaction-prediciton/data/ZINC-canonicalized-train.csv\", index=False)\n",
    "valid = pd.read_csv(\"../tcrp-test/transformer-chemical-reaction-prediciton/data/ZINC-canonicalized-valid.csv\")\n",
    "valid = valid.rename(columns={'text':'smiles'}).drop(['Unnamed: 0'], axis=1)\n",
    "valid.to_csv(\"../tcrp-test/transformer-chemical-reaction-prediciton/data/ZINC-canonicalized-valid.csv\", index=False)\n"
   ]
  },
  {
   "cell_type": "code",
   "execution_count": 37,
   "id": "26a0a324",
   "metadata": {},
   "outputs": [
    {
     "name": "stderr",
     "output_type": "stream",
     "text": [
      "Using custom data configuration default-681997cf8c885a68\n"
     ]
    },
    {
     "name": "stdout",
     "output_type": "stream",
     "text": [
      "Downloading and preparing dataset csv/default to /home/sagawa/.cache/huggingface/datasets/csv/default-681997cf8c885a68/0.0.0/652c3096f041ee27b04d2232d41f10547a8fecda3e284a79a0ec4053c916ef7a...\n"
     ]
    },
    {
     "data": {
      "application/vnd.jupyter.widget-view+json": {
       "model_id": "7ec5e1d537174321b1661e89e4cc9e14",
       "version_major": 2,
       "version_minor": 0
      },
      "text/plain": [
       "Downloading data files:   0%|          | 0/2 [00:00<?, ?it/s]"
      ]
     },
     "metadata": {},
     "output_type": "display_data"
    },
    {
     "data": {
      "application/vnd.jupyter.widget-view+json": {
       "model_id": "cfd10a4191af499eba5339f96fb71281",
       "version_major": 2,
       "version_minor": 0
      },
      "text/plain": [
       "Extracting data files:   0%|          | 0/2 [00:00<?, ?it/s]"
      ]
     },
     "metadata": {},
     "output_type": "display_data"
    },
    {
     "data": {
      "application/vnd.jupyter.widget-view+json": {
       "model_id": "",
       "version_major": 2,
       "version_minor": 0
      },
      "text/plain": [
       "0 tables [00:00, ? tables/s]"
      ]
     },
     "metadata": {},
     "output_type": "display_data"
    },
    {
     "data": {
      "application/vnd.jupyter.widget-view+json": {
       "model_id": "",
       "version_major": 2,
       "version_minor": 0
      },
      "text/plain": [
       "0 tables [00:00, ? tables/s]"
      ]
     },
     "metadata": {},
     "output_type": "display_data"
    },
    {
     "name": "stdout",
     "output_type": "stream",
     "text": [
      "Dataset csv downloaded and prepared to /home/sagawa/.cache/huggingface/datasets/csv/default-681997cf8c885a68/0.0.0/652c3096f041ee27b04d2232d41f10547a8fecda3e284a79a0ec4053c916ef7a. Subsequent calls will reuse this data.\n"
     ]
    },
    {
     "data": {
      "application/vnd.jupyter.widget-view+json": {
       "model_id": "11bc8de11ff240d1b5986946ce5cb8c4",
       "version_major": 2,
       "version_minor": 0
      },
      "text/plain": [
       "  0%|          | 0/2 [00:00<?, ?it/s]"
      ]
     },
     "metadata": {},
     "output_type": "display_data"
    },
    {
     "data": {
      "text/plain": [
       "DatasetDict({\n",
       "    train: Dataset({\n",
       "        features: ['smiles'],\n",
       "        num_rows: 20693269\n",
       "    })\n",
       "    validation: Dataset({\n",
       "        features: ['smiles'],\n",
       "        num_rows: 2299253\n",
       "    })\n",
       "})"
      ]
     },
     "execution_count": 37,
     "metadata": {},
     "output_type": "execute_result"
    }
   ],
   "source": [
    "data_files = {\"train\": \"../tcrp-test/transformer-chemical-reaction-prediciton/data/ZINC-canonicalized-train.csv\", \"validation\":\"../tcrp-test/transformer-chemical-reaction-prediciton/data/ZINC-canonicalized-valid.csv\"}\n",
    "ds = load_dataset('csv', data_files=data_files)\n",
    "ds"
   ]
  },
  {
   "cell_type": "code",
   "execution_count": 38,
   "id": "5548b572",
   "metadata": {},
   "outputs": [
    {
     "name": "stderr",
     "output_type": "stream",
     "text": [
      "/home/sagawa/anaconda3/lib/python3.9/site-packages/huggingface_hub/hf_api.py:79: FutureWarning: `name` and `organization` input arguments are deprecated and will be removed in v0.8. Pass `repo_id` instead.\n",
      "  warnings.warn(\n",
      "Pushing split train to the Hub.\n"
     ]
    },
    {
     "data": {
      "application/vnd.jupyter.widget-view+json": {
       "model_id": "967e9d4485b54c79918e2d5b083091a0",
       "version_major": 2,
       "version_minor": 0
      },
      "text/plain": [
       "Pushing dataset shards to the dataset hub:   0%|          | 0/3 [00:00<?, ?it/s]"
      ]
     },
     "metadata": {},
     "output_type": "display_data"
    },
    {
     "name": "stderr",
     "output_type": "stream",
     "text": [
      "Pushing split validation to the Hub.\n"
     ]
    },
    {
     "data": {
      "application/vnd.jupyter.widget-view+json": {
       "model_id": "8964024857ca427db22363a3fad449d1",
       "version_major": 2,
       "version_minor": 0
      },
      "text/plain": [
       "Pushing dataset shards to the dataset hub:   0%|          | 0/1 [00:00<?, ?it/s]"
      ]
     },
     "metadata": {},
     "output_type": "display_data"
    }
   ],
   "source": [
    "repo_url = create_repo(name=\"ZINC-canonicalized\", repo_type=\"dataset\")\n",
    "ds.push_to_hub(repo_id=\"ZINC-canonicalized\")"
   ]
  },
  {
   "cell_type": "code",
   "execution_count": null,
   "id": "dd25aad2",
   "metadata": {},
   "outputs": [],
   "source": []
  },
  {
   "cell_type": "code",
   "execution_count": 39,
   "id": "b01d465c",
   "metadata": {},
   "outputs": [
    {
     "data": {
      "application/vnd.jupyter.widget-view+json": {
       "model_id": "af6daf966d6744dcbbe39a22a15ec25e",
       "version_major": 2,
       "version_minor": 0
      },
      "text/plain": [
       "Downloading:   0%|          | 0.00/801 [00:00<?, ?B/s]"
      ]
     },
     "metadata": {},
     "output_type": "display_data"
    },
    {
     "name": "stderr",
     "output_type": "stream",
     "text": [
      "Using custom data configuration sagawa--pubchem-10m-canonicalized-93982af44e6a1c55\n"
     ]
    },
    {
     "name": "stdout",
     "output_type": "stream",
     "text": [
      "Downloading and preparing dataset csv/default (download: 250.77 MiB, generated: 463.22 MiB, post-processed: Unknown size, total: 713.99 MiB) to /home/sagawa/.cache/huggingface/datasets/sagawa___parquet/sagawa--pubchem-10m-canonicalized-93982af44e6a1c55/0.0.0/2a3b91fbd88a2c90d1dbbb32b460cf621d31bd5b05b934492fdef7d8d6f236ec...\n"
     ]
    },
    {
     "data": {
      "application/vnd.jupyter.widget-view+json": {
       "model_id": "01cf5b91ecf1407aacb468c6c22e42f9",
       "version_major": 2,
       "version_minor": 0
      },
      "text/plain": [
       "Downloading data files:   0%|          | 0/2 [00:00<?, ?it/s]"
      ]
     },
     "metadata": {},
     "output_type": "display_data"
    },
    {
     "data": {
      "application/vnd.jupyter.widget-view+json": {
       "model_id": "6e0b9f6eefe84e79ba6db73bd90934bb",
       "version_major": 2,
       "version_minor": 0
      },
      "text/plain": [
       "Downloading data:   0%|          | 0.00/26.3M [00:00<?, ?B/s]"
      ]
     },
     "metadata": {},
     "output_type": "display_data"
    },
    {
     "data": {
      "application/vnd.jupyter.widget-view+json": {
       "model_id": "127f0b0e35d74ed2840f864ec5fb3e44",
       "version_major": 2,
       "version_minor": 0
      },
      "text/plain": [
       "Downloading data:   0%|          | 0.00/237M [00:00<?, ?B/s]"
      ]
     },
     "metadata": {},
     "output_type": "display_data"
    },
    {
     "data": {
      "application/vnd.jupyter.widget-view+json": {
       "model_id": "74c1dab0938944f5b375ed72a58e9dd1",
       "version_major": 2,
       "version_minor": 0
      },
      "text/plain": [
       "Extracting data files:   0%|          | 0/2 [00:00<?, ?it/s]"
      ]
     },
     "metadata": {},
     "output_type": "display_data"
    },
    {
     "data": {
      "application/vnd.jupyter.widget-view+json": {
       "model_id": "",
       "version_major": 2,
       "version_minor": 0
      },
      "text/plain": [
       "0 tables [00:00, ? tables/s]"
      ]
     },
     "metadata": {},
     "output_type": "display_data"
    },
    {
     "data": {
      "application/vnd.jupyter.widget-view+json": {
       "model_id": "",
       "version_major": 2,
       "version_minor": 0
      },
      "text/plain": [
       "0 tables [00:00, ? tables/s]"
      ]
     },
     "metadata": {},
     "output_type": "display_data"
    },
    {
     "name": "stdout",
     "output_type": "stream",
     "text": [
      "Dataset parquet downloaded and prepared to /home/sagawa/.cache/huggingface/datasets/sagawa___parquet/sagawa--pubchem-10m-canonicalized-93982af44e6a1c55/0.0.0/2a3b91fbd88a2c90d1dbbb32b460cf621d31bd5b05b934492fdef7d8d6f236ec. Subsequent calls will reuse this data.\n"
     ]
    },
    {
     "data": {
      "application/vnd.jupyter.widget-view+json": {
       "model_id": "00781e1315094355ad59907f2cada5b9",
       "version_major": 2,
       "version_minor": 0
      },
      "text/plain": [
       "  0%|          | 0/2 [00:00<?, ?it/s]"
      ]
     },
     "metadata": {},
     "output_type": "display_data"
    },
    {
     "data": {
      "text/plain": [
       "DatasetDict({\n",
       "    validation: Dataset({\n",
       "        features: ['smiles'],\n",
       "        num_rows: 999996\n",
       "    })\n",
       "    train: Dataset({\n",
       "        features: ['smiles'],\n",
       "        num_rows: 8999964\n",
       "    })\n",
       "})"
      ]
     },
     "execution_count": 39,
     "metadata": {},
     "output_type": "execute_result"
    }
   ],
   "source": [
    "ds = load_dataset('sagawa/pubchem-10m-canonicalized')\n",
    "ds"
   ]
  },
  {
   "cell_type": "code",
   "execution_count": null,
   "id": "13044132",
   "metadata": {},
   "outputs": [],
   "source": []
  }
 ],
 "metadata": {
  "kernelspec": {
   "display_name": "Python 3 (ipykernel)",
   "language": "python",
   "name": "python3"
  },
  "language_info": {
   "codemirror_mode": {
    "name": "ipython",
    "version": 3
   },
   "file_extension": ".py",
   "mimetype": "text/x-python",
   "name": "python",
   "nbconvert_exporter": "python",
   "pygments_lexer": "ipython3",
   "version": "3.9.12"
  }
 },
 "nbformat": 4,
 "nbformat_minor": 5
}
